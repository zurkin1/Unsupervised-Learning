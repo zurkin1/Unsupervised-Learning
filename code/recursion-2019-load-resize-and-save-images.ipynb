{
 "cells": [
  {
   "cell_type": "markdown",
   "metadata": {},
   "source": [
    "# Intro\n",
    "\n",
    "* This kernel lets you efficiently convert all images from their tensor format into RGB images, then save them as 400x400 JPEGs inside two zip files (`train` and `test`).\n",
    "* Feel free to customize this kernel as you wish. You can change the shape and extension of the final output image by changing the input arguments to `convert_to_rgb` and `build_new_df`.\n",
    "\n",
    "### Notes\n",
    "\n",
    "* In a previous version (V11) of the kernel, I claimed that the `rxrx.io.load_site_as_rgb` function was inefficient, and tried to provide a faster solution. It turns out I did not input the correct argument, so it was instead fetching the images directly from Google Storage; with the correct argument, the speed was comparable. **My sincere apologies for misleading everyone.**\n",
    "\n",
    "\n",
    "### Updates\n",
    "\n",
    "* V13: Changed output image size to 400 px instead of 224.\n",
    "\n",
    "### Sources\n",
    "\n",
    "* Found out about the loading functions from this kernel: https://www.kaggle.com/jesucristo/quick-visualization-eda"
   ]
  },
  {
   "cell_type": "code",
   "execution_count": 1,
   "metadata": {
    "_cell_guid": "b1076dfc-b9ad-4769-8c92-a6c4dae69d19",
    "_uuid": "8f2839f25d086af736a60e9eeb907d3b93b6e0e5"
   },
   "outputs": [],
   "source": [
    "import os\n",
    "import sys\n",
    "import zipfile\n",
    "\n",
    "import numpy as np\n",
    "import pandas as pd\n",
    "import cv2\n",
    "import matplotlib.pyplot as plt\n",
    "from tqdm import tqdm\n",
    "from PIL import Image"
   ]
  },
  {
   "cell_type": "markdown",
   "metadata": {},
   "source": [
    "# Preliminary"
   ]
  },
  {
   "cell_type": "markdown",
   "metadata": {},
   "source": [
    "We need to also import rxrx in order to convert the tensors into images."
   ]
  },
  {
   "cell_type": "code",
   "execution_count": 2,
   "metadata": {},
   "outputs": [
    {
     "name": "stdout",
     "output_type": "stream",
     "text": [
      "Cloning into 'rxrx1-utils'...\r\n",
      "remote: Enumerating objects: 118, done.\u001b[K\r\n",
      "remote: Total 118 (delta 0), reused 0 (delta 0), pack-reused 118\u001b[K\r\n",
      "Receiving objects: 100% (118/118), 1.59 MiB | 0 bytes/s, done.\r\n",
      "Resolving deltas: 100% (59/59), done.\r\n"
     ]
    }
   ],
   "source": [
    "!git clone https://github.com/recursionpharma/rxrx1-utils\n",
    "sys.path.append('rxrx1-utils')\n",
    "import rxrx.io as rio"
   ]
  },
  {
   "cell_type": "markdown",
   "metadata": {},
   "source": [
    "Will need those folders later for storing our jpegs."
   ]
  },
  {
   "cell_type": "code",
   "execution_count": 3,
   "metadata": {},
   "outputs": [
    {
     "name": "stdout",
     "output_type": "stream",
     "text": [
      "__notebook__.ipynb  __output__.json  rxrx1-utils  test\ttrain\r\n"
     ]
    }
   ],
   "source": [
    "for folder in ['train', 'test']:\n",
    "    os.makedirs(folder)\n",
    "\n",
    "!ls"
   ]
  },
  {
   "cell_type": "code",
   "execution_count": 4,
   "metadata": {
    "_cell_guid": "79c7e3d0-c299-4dcb-8224-4455121ee9b0",
    "_uuid": "d629ff2d2480ee46fbb7e2d37f6b5fab8052498a"
   },
   "outputs": [
    {
     "name": "stdout",
     "output_type": "stream",
     "text": [
      "(36515, 5)\n",
      "(19897, 4)\n"
     ]
    },
    {
     "data": {
      "text/html": [
       "<div>\n",
       "<style scoped>\n",
       "    .dataframe tbody tr th:only-of-type {\n",
       "        vertical-align: middle;\n",
       "    }\n",
       "\n",
       "    .dataframe tbody tr th {\n",
       "        vertical-align: top;\n",
       "    }\n",
       "\n",
       "    .dataframe thead th {\n",
       "        text-align: right;\n",
       "    }\n",
       "</style>\n",
       "<table border=\"1\" class=\"dataframe\">\n",
       "  <thead>\n",
       "    <tr style=\"text-align: right;\">\n",
       "      <th></th>\n",
       "      <th>id_code</th>\n",
       "      <th>experiment</th>\n",
       "      <th>plate</th>\n",
       "      <th>well</th>\n",
       "      <th>sirna</th>\n",
       "    </tr>\n",
       "  </thead>\n",
       "  <tbody>\n",
       "    <tr>\n",
       "      <th>0</th>\n",
       "      <td>HEPG2-01_1_B03</td>\n",
       "      <td>HEPG2-01</td>\n",
       "      <td>1</td>\n",
       "      <td>B03</td>\n",
       "      <td>513</td>\n",
       "    </tr>\n",
       "    <tr>\n",
       "      <th>1</th>\n",
       "      <td>HEPG2-01_1_B04</td>\n",
       "      <td>HEPG2-01</td>\n",
       "      <td>1</td>\n",
       "      <td>B04</td>\n",
       "      <td>840</td>\n",
       "    </tr>\n",
       "    <tr>\n",
       "      <th>2</th>\n",
       "      <td>HEPG2-01_1_B05</td>\n",
       "      <td>HEPG2-01</td>\n",
       "      <td>1</td>\n",
       "      <td>B05</td>\n",
       "      <td>1020</td>\n",
       "    </tr>\n",
       "    <tr>\n",
       "      <th>3</th>\n",
       "      <td>HEPG2-01_1_B06</td>\n",
       "      <td>HEPG2-01</td>\n",
       "      <td>1</td>\n",
       "      <td>B06</td>\n",
       "      <td>254</td>\n",
       "    </tr>\n",
       "    <tr>\n",
       "      <th>4</th>\n",
       "      <td>HEPG2-01_1_B07</td>\n",
       "      <td>HEPG2-01</td>\n",
       "      <td>1</td>\n",
       "      <td>B07</td>\n",
       "      <td>144</td>\n",
       "    </tr>\n",
       "  </tbody>\n",
       "</table>\n",
       "</div>"
      ],
      "text/plain": [
       "          id_code experiment  plate well  sirna\n",
       "0  HEPG2-01_1_B03   HEPG2-01      1  B03    513\n",
       "1  HEPG2-01_1_B04   HEPG2-01      1  B04    840\n",
       "2  HEPG2-01_1_B05   HEPG2-01      1  B05   1020\n",
       "3  HEPG2-01_1_B06   HEPG2-01      1  B06    254\n",
       "4  HEPG2-01_1_B07   HEPG2-01      1  B07    144"
      ]
     },
     "execution_count": 4,
     "metadata": {},
     "output_type": "execute_result"
    }
   ],
   "source": [
    "train_df = pd.read_csv('../input/train.csv')\n",
    "test_df = pd.read_csv('../input/test.csv')\n",
    "print(train_df.shape)\n",
    "print(test_df.shape)\n",
    "train_df.head()"
   ]
  },
  {
   "cell_type": "code",
   "execution_count": 5,
   "metadata": {},
   "outputs": [
    {
     "data": {
      "text/html": [
       "<div>\n",
       "<style scoped>\n",
       "    .dataframe tbody tr th:only-of-type {\n",
       "        vertical-align: middle;\n",
       "    }\n",
       "\n",
       "    .dataframe tbody tr th {\n",
       "        vertical-align: top;\n",
       "    }\n",
       "\n",
       "    .dataframe thead th {\n",
       "        text-align: right;\n",
       "    }\n",
       "</style>\n",
       "<table border=\"1\" class=\"dataframe\">\n",
       "  <thead>\n",
       "    <tr style=\"text-align: right;\">\n",
       "      <th></th>\n",
       "      <th>id_code</th>\n",
       "      <th>experiment</th>\n",
       "      <th>plate</th>\n",
       "      <th>well</th>\n",
       "      <th>sirna</th>\n",
       "    </tr>\n",
       "  </thead>\n",
       "  <tbody>\n",
       "    <tr>\n",
       "      <th>36510</th>\n",
       "      <td>U2OS-03_4_O19</td>\n",
       "      <td>U2OS-03</td>\n",
       "      <td>4</td>\n",
       "      <td>O19</td>\n",
       "      <td>103</td>\n",
       "    </tr>\n",
       "    <tr>\n",
       "      <th>36511</th>\n",
       "      <td>U2OS-03_4_O20</td>\n",
       "      <td>U2OS-03</td>\n",
       "      <td>4</td>\n",
       "      <td>O20</td>\n",
       "      <td>202</td>\n",
       "    </tr>\n",
       "    <tr>\n",
       "      <th>36512</th>\n",
       "      <td>U2OS-03_4_O21</td>\n",
       "      <td>U2OS-03</td>\n",
       "      <td>4</td>\n",
       "      <td>O21</td>\n",
       "      <td>824</td>\n",
       "    </tr>\n",
       "    <tr>\n",
       "      <th>36513</th>\n",
       "      <td>U2OS-03_4_O22</td>\n",
       "      <td>U2OS-03</td>\n",
       "      <td>4</td>\n",
       "      <td>O22</td>\n",
       "      <td>328</td>\n",
       "    </tr>\n",
       "    <tr>\n",
       "      <th>36514</th>\n",
       "      <td>U2OS-03_4_O23</td>\n",
       "      <td>U2OS-03</td>\n",
       "      <td>4</td>\n",
       "      <td>O23</td>\n",
       "      <td>509</td>\n",
       "    </tr>\n",
       "  </tbody>\n",
       "</table>\n",
       "</div>"
      ],
      "text/plain": [
       "             id_code experiment  plate well  sirna\n",
       "36510  U2OS-03_4_O19    U2OS-03      4  O19    103\n",
       "36511  U2OS-03_4_O20    U2OS-03      4  O20    202\n",
       "36512  U2OS-03_4_O21    U2OS-03      4  O21    824\n",
       "36513  U2OS-03_4_O22    U2OS-03      4  O22    328\n",
       "36514  U2OS-03_4_O23    U2OS-03      4  O23    509"
      ]
     },
     "execution_count": 5,
     "metadata": {},
     "output_type": "execute_result"
    }
   ],
   "source": [
    "train_df.tail()"
   ]
  },
  {
   "cell_type": "markdown",
   "metadata": {},
   "source": [
    "# Saving as JPEG"
   ]
  },
  {
   "cell_type": "code",
   "execution_count": 6,
   "metadata": {},
   "outputs": [],
   "source": [
    "def convert_to_rgb(df, split, resize=True, new_size=400, extension='jpeg'):\n",
    "    N = df.shape[0]\n",
    "\n",
    "    for i in tqdm(range(N)):\n",
    "        code = df['id_code'][i]\n",
    "        experiment = df['experiment'][i]\n",
    "        plate = df['plate'][i]\n",
    "        well = df['well'][i]\n",
    "\n",
    "        for site in [1, 2]:\n",
    "            save_path = f'{split}/{code}_s{site}.{extension}'\n",
    "\n",
    "            im = rio.load_site_as_rgb(\n",
    "                split, experiment, plate, well, site, \n",
    "                base_path='../input/'\n",
    "            )\n",
    "            im = im.astype(np.uint8)\n",
    "            im = Image.fromarray(im)\n",
    "            \n",
    "            if resize:\n",
    "                im = im.resize((new_size, new_size), resample=Image.BILINEAR)\n",
    "            \n",
    "            im.save(save_path)"
   ]
  },
  {
   "cell_type": "code",
   "execution_count": 7,
   "metadata": {},
   "outputs": [
    {
     "name": "stderr",
     "output_type": "stream",
     "text": [
      " 20%|██        | 7469/36515 [35:55<2:18:40,  3.49it/s]"
     ]
    }
   ],
   "source": [
    "convert_to_rgb(train_df, 'train')\n",
    "convert_to_rgb(test_df, 'test')"
   ]
  },
  {
   "cell_type": "markdown",
   "metadata": {},
   "source": [
    "# Zip everything"
   ]
  },
  {
   "cell_type": "code",
   "execution_count": 8,
   "metadata": {},
   "outputs": [],
   "source": [
    "def zip_and_remove(path):\n",
    "    ziph = zipfile.ZipFile(f'{path}.zip', 'w', zipfile.ZIP_DEFLATED)\n",
    "    \n",
    "    for root, dirs, files in os.walk(path):\n",
    "        for file in tqdm(files):\n",
    "            file_path = os.path.join(root, file)\n",
    "            ziph.write(file_path)\n",
    "            os.remove(file_path)\n",
    "    \n",
    "    ziph.close()"
   ]
  },
  {
   "cell_type": "code",
   "execution_count": 9,
   "metadata": {},
   "outputs": [
    {
     "name": "stderr",
     "output_type": "stream",
     "text": [
      "100%|██████████| 73030/73030 [02:19<00:00, 522.77it/s]\n",
      "100%|██████████| 39794/39794 [00:57<00:00, 687.36it/s]\n"
     ]
    }
   ],
   "source": [
    "zip_and_remove('train')\n",
    "zip_and_remove('test')"
   ]
  },
  {
   "cell_type": "markdown",
   "metadata": {},
   "source": [
    "# Create new labels\n",
    "\n",
    "Since our data is now \"duplicated\" (as in, we have separated the sites), we have to also duplicate our labels."
   ]
  },
  {
   "cell_type": "code",
   "execution_count": 10,
   "metadata": {},
   "outputs": [],
   "source": [
    "def build_new_df(df, extension='jpeg'):\n",
    "    new_df = pd.concat([df, df])\n",
    "    new_df['filename'] = pd.concat([\n",
    "        df['id_code'].apply(lambda string: string + f'_s1.{extension}'),\n",
    "        df['id_code'].apply(lambda string: string + f'_s2.{extension}')\n",
    "    ])\n",
    "    \n",
    "    return new_df\n",
    "\n",
    "\n",
    "new_train = build_new_df(train_df)\n",
    "new_test = build_new_df(test_df)\n",
    "\n",
    "new_train.to_csv('new_train.csv', index=False)\n",
    "new_test.to_csv('new_test.csv', index=False)"
   ]
  },
  {
   "cell_type": "markdown",
   "metadata": {},
   "source": [
    "# Remove the rxrx1 utils\n",
    "\n",
    "Need to remove those, otherwise we will have an error when saving."
   ]
  },
  {
   "cell_type": "code",
   "execution_count": 11,
   "metadata": {},
   "outputs": [],
   "source": [
    "!rm -r rxrx1-utils"
   ]
  }
 ],
 "metadata": {
  "kernelspec": {
   "display_name": "Python 3",
   "language": "python",
   "name": "python3"
  },
  "language_info": {
   "codemirror_mode": {
    "name": "ipython",
    "version": 3
   },
   "file_extension": ".py",
   "mimetype": "text/x-python",
   "name": "python",
   "nbconvert_exporter": "python",
   "pygments_lexer": "ipython3",
   "version": "3.7.1"
  }
 },
 "nbformat": 4,
 "nbformat_minor": 1
}
