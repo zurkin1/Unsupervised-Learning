{
 "cells": [
  {
   "cell_type": "markdown",
   "metadata": {
    "colab_type": "text",
    "id": "tz4k6zgFKIdS"
   },
   "source": [
    "# Imports"
   ]
  },
  {
   "cell_type": "code",
   "execution_count": 1,
   "metadata": {
    "colab": {},
    "colab_type": "code",
    "id": "Ox5JQtRmKIdU",
    "scrolled": true
   },
   "outputs": [
    {
     "name": "stderr",
     "output_type": "stream",
     "text": [
      "Using TensorFlow backend.\n"
     ]
    }
   ],
   "source": [
    "import pandas as pd\n",
    "pd.options.mode.chained_assignment = None\n",
    "import numpy as np\n",
    "import gensim\n",
    "from gensim.models.word2vec import Word2Vec # the word2vec model gensim class\n",
    "from nltk.tokenize import TweetTokenizer # a tweet tokenizer from nltk.\n",
    "from nltk import word_tokenize\n",
    "from sklearn.preprocessing import scale\n",
    "from sklearn.model_selection import train_test_split\n",
    "from keras.preprocessing.image import ImageDataGenerator\n",
    "from keras.models import Sequential\n",
    "from keras.layers import Dense\n",
    "from keras.layers import Dropout\n",
    "from keras.layers import Flatten\n",
    "from keras.constraints import maxnorm\n",
    "from keras.optimizers import SGD\n",
    "from keras.layers.convolutional import Conv2D\n",
    "from keras.layers.convolutional import MaxPooling2D\n",
    "from keras.utils import np_utils\n",
    "from keras.callbacks import Callback\n",
    "from keras.models import model_from_json"
   ]
  },
  {
   "cell_type": "markdown",
   "metadata": {
    "colab": {},
    "colab_type": "code",
    "id": "heOFnOMPfdo6"
   },
   "source": [
    "Estimate sentiment of words using word vectors.  \n",
    "In this section, we'll use the SemEval-2015 English Twitter Sentiment Lexicon.  \n",
    "The lexicon was used as an official test set in the SemEval-2015 shared Task #10: Subtask E, \n",
    "and contains a polarity score \n",
    "for words in range -1 (negative) to 1 (positive) - http://saifmohammad.com/WebPages/SCL.html#OPP\n",
    "\n",
    "\n",
    "Build a classifier for the sentiment of a word given its word vector. Split the data to a train and test sets, and report\n",
    " the model performance on both sets.\n",
    "\n",
    "Use your trained model from the previous question to predict the sentiment score of words in the lyrics corpus that are not\n",
    "part of the original sentiment dataset. Review the words with the highest positive and negative sentiment.\n",
    "Do the results make sense?"
   ]
  },
  {
   "cell_type": "code",
   "execution_count": 4,
   "metadata": {
    "colab": {},
    "colab_type": "code",
    "id": "jMgwPX4wd61f"
   },
   "outputs": [
    {
     "data": {
      "text/html": [
       "<div>\n",
       "<style scoped>\n",
       "    .dataframe tbody tr th:only-of-type {\n",
       "        vertical-align: middle;\n",
       "    }\n",
       "\n",
       "    .dataframe tbody tr th {\n",
       "        vertical-align: top;\n",
       "    }\n",
       "\n",
       "    .dataframe thead th {\n",
       "        text-align: right;\n",
       "    }\n",
       "</style>\n",
       "<table border=\"1\" class=\"dataframe\">\n",
       "  <thead>\n",
       "    <tr style=\"text-align: right;\">\n",
       "      <th></th>\n",
       "      <th>rank</th>\n",
       "      <th>SentimentText</th>\n",
       "      <th>Sentiment</th>\n",
       "    </tr>\n",
       "  </thead>\n",
       "  <tbody>\n",
       "    <tr>\n",
       "      <th>0</th>\n",
       "      <td>0.984</td>\n",
       "      <td>love</td>\n",
       "      <td>1</td>\n",
       "    </tr>\n",
       "    <tr>\n",
       "      <th>1</th>\n",
       "      <td>0.984</td>\n",
       "      <td>inspir</td>\n",
       "      <td>1</td>\n",
       "    </tr>\n",
       "    <tr>\n",
       "      <th>2</th>\n",
       "      <td>0.969</td>\n",
       "      <td>amaz</td>\n",
       "      <td>1</td>\n",
       "    </tr>\n",
       "    <tr>\n",
       "      <th>3</th>\n",
       "      <td>0.969</td>\n",
       "      <td>peac</td>\n",
       "      <td>1</td>\n",
       "    </tr>\n",
       "    <tr>\n",
       "      <th>4</th>\n",
       "      <td>0.953</td>\n",
       "      <td>great</td>\n",
       "      <td>1</td>\n",
       "    </tr>\n",
       "  </tbody>\n",
       "</table>\n",
       "</div>"
      ],
      "text/plain": [
       "    rank SentimentText  Sentiment\n",
       "0  0.984          love          1\n",
       "1  0.984        inspir          1\n",
       "2  0.969          amaz          1\n",
       "3  0.969          peac          1\n",
       "4  0.953         great          1"
      ]
     },
     "execution_count": 4,
     "metadata": {},
     "output_type": "execute_result"
    }
   ],
   "source": [
    "#basic cleaning \n",
    "import re\n",
    "import pandas as pd\n",
    "import nltk\n",
    "import string\n",
    "from nltk.corpus import stopwords # Import the stop word list\n",
    "from gensim.models import Word2Vec\n",
    "\n",
    "\n",
    "\n",
    "#Preprocessing tasks:\n",
    "#1) Remove punctuation marks, numbers and non-text characters.\n",
    "#2) Move to lowercase.\n",
    "#5) Tokenization with a stemmer.\n",
    "\n",
    "\n",
    "def Clean_non_alphabeta(x):\n",
    "    x = re.sub(\"[^a-zA-Z\\n]\",\" \",str(x))\n",
    "    return x\n",
    "\n",
    "\n",
    "def Remove_words(x, word_set):\n",
    "    y = \"\\n\".join(\n",
    "                [\" \".join(\n",
    "                    [w for w in line.split(' ') if w not in word_set]\n",
    "                          )\n",
    "                    for line in x.split('\\n')\n",
    "                ]\n",
    "    )\n",
    "    return y\n",
    "\n",
    "\n",
    "def Apply_stemmer(x, stemmer):\n",
    "    y = \"\\n\".join(\n",
    "                [\" \".join(\n",
    "                    [stemmer.stem(w) for w in line.split(' ')]\n",
    "                          )\n",
    "                    for line in x.split('\\n')\n",
    "                ]\n",
    "    )\n",
    "    return y\n",
    "\n",
    "\n",
    "\n",
    "\n",
    "df = pd.read_csv('/Temp/SemEval2015-English-Twitter-Lexicon.csv')\n",
    "df=df.dropna(subset=['SentimentText'])\n",
    "df['SentimentText'] = df.SentimentText.astype('str')\n",
    "df['SentimentText']=df['SentimentText'].apply(lambda x: x.lower())\n",
    "df['SentimentText']=df['SentimentText'].apply(Clean_non_alphabeta)\n",
    "porter = nltk.PorterStemmer()\n",
    "df['SentimentText']=df['SentimentText'].apply(lambda x: Apply_stemmer(x, porter))\n",
    "df.to_csv('/Temp/SemEval2015-English-Twitter-Lexicon_basic_cleaning.csv', index=None)\n",
    "df.head()"
   ]
  },
  {
   "cell_type": "code",
   "execution_count": 11,
   "metadata": {
    "colab": {},
    "colab_type": "code",
    "id": "BWJGUm_1BX0x"
   },
   "outputs": [],
   "source": [
    "#Splitting for training and testing\n",
    "x_train, x_test, y_train, y_test = train_test_split(np.array(data.head(1000000).tokens),\n",
    "                                                    np.array(data.head(1000000).Sentiment), test_size=0.2)\n"
   ]
  },
  {
   "cell_type": "markdown",
   "metadata": {
    "colab_type": "text",
    "id": "eAE0irxlKId7"
   },
   "source": [
    "# Build tweet vector to give input to FFNN"
   ]
  },
  {
   "cell_type": "code",
   "execution_count": 0,
   "metadata": {
    "colab": {},
    "colab_type": "code",
    "id": "fKfWUB1JKId8"
   },
   "outputs": [],
   "source": [
    "def buildWordVector(tokens, size):\n",
    "    vec = np.zeros(size).reshape((1, size))\n",
    "    count = 0.\n",
    "    for word in tokens:\n",
    "        try:\n",
    "            vec += tweet_w2v[word].reshape((1, size)) * tfidf[word] #combining w2v vectors with tfidf value of words in the tweet.\n",
    "            count += 1.\n",
    "        except KeyError: # handling the case where the token is not\n",
    "                         # in the corpus. useful for testing.\n",
    "            continue\n",
    "    if count != 0:\n",
    "        vec /= count\n",
    "    return vec"
   ]
  },
  {
   "cell_type": "code",
   "execution_count": null,
   "metadata": {
    "colab": {
     "base_uri": "https://localhost:8080/",
     "height": 765
    },
    "colab_type": "code",
    "id": "5djZate7KId-",
    "outputId": "87125815-76fe-4623-804c-ceee0659d58d",
    "scrolled": true
   },
   "outputs": [],
   "source": [
    "train_vecs_w2v = np.concatenate([buildWordVector(z, n_dim) for z in tqdm(map(lambda x: x.words, x_train))])\n",
    "train_vecs_w2v = scale(train_vecs_w2v)\n",
    "\n",
    "test_vecs_w2v = np.concatenate([buildWordVector(z, n_dim) for z in tqdm(map(lambda x: x.words, x_test))])\n",
    "test_vecs_w2v = scale(test_vecs_w2v)"
   ]
  },
  {
   "cell_type": "markdown",
   "metadata": {
    "colab_type": "text",
    "id": "AY-4ebADKIeC"
   },
   "source": [
    "# Training 3 layered FFNN"
   ]
  },
  {
   "cell_type": "code",
   "execution_count": 0,
   "metadata": {
    "colab": {
     "base_uri": "https://localhost:8080/",
     "height": 1000
    },
    "colab_type": "code",
    "id": "sZh93kpTKIeE",
    "outputId": "68e7ed03-5d63-463d-d6b7-3bcd133d5f9b",
    "scrolled": true
   },
   "outputs": [
    {
     "name": "stdout",
     "output_type": "stream",
     "text": [
      "Epoch 1/100\n",
      " - 0s - loss: 0.7618 - acc: 0.4813\n",
      "Epoch 2/100\n",
      " - 0s - loss: 0.7273 - acc: 0.5204\n",
      "Epoch 3/100\n",
      " - 0s - loss: 0.7058 - acc: 0.5537\n",
      "Epoch 4/100\n",
      " - 0s - loss: 0.6888 - acc: 0.5812\n",
      "Epoch 5/100\n",
      " - 0s - loss: 0.6750 - acc: 0.5987\n",
      "Epoch 6/100\n",
      " - 0s - loss: 0.6633 - acc: 0.6203\n",
      "Epoch 7/100\n",
      " - 0s - loss: 0.6531 - acc: 0.6436\n",
      "Epoch 8/100\n",
      " - 0s - loss: 0.6439 - acc: 0.6611\n",
      "Epoch 9/100\n",
      " - 0s - loss: 0.6354 - acc: 0.6686\n",
      "Epoch 10/100\n",
      " - 0s - loss: 0.6276 - acc: 0.6869\n",
      "Epoch 11/100\n",
      " - 0s - loss: 0.6202 - acc: 0.7036\n",
      "Epoch 12/100\n",
      " - 0s - loss: 0.6132 - acc: 0.7111\n",
      "Epoch 13/100\n",
      " - 0s - loss: 0.6064 - acc: 0.7227\n",
      "Epoch 14/100\n",
      " - 0s - loss: 0.5998 - acc: 0.7344\n",
      "Epoch 15/100\n",
      " - 0s - loss: 0.5935 - acc: 0.7460\n",
      "Epoch 16/100\n",
      " - 0s - loss: 0.5874 - acc: 0.7535\n",
      "Epoch 17/100\n",
      " - 0s - loss: 0.5815 - acc: 0.7627\n",
      "Epoch 18/100\n",
      " - 0s - loss: 0.5758 - acc: 0.7660\n",
      "Epoch 19/100\n",
      " - 0s - loss: 0.5699 - acc: 0.7760\n",
      "Epoch 20/100\n",
      " - 0s - loss: 0.5643 - acc: 0.7835\n",
      "Epoch 21/100\n",
      " - 0s - loss: 0.5582 - acc: 0.7868\n",
      "Epoch 22/100\n",
      " - 0s - loss: 0.5522 - acc: 0.7985\n",
      "Epoch 23/100\n",
      " - 0s - loss: 0.5461 - acc: 0.8060\n",
      "Epoch 24/100\n",
      " - 0s - loss: 0.5400 - acc: 0.8110\n",
      "Epoch 25/100\n",
      " - 0s - loss: 0.5338 - acc: 0.8201\n",
      "Epoch 26/100\n",
      " - 0s - loss: 0.5278 - acc: 0.8218\n",
      "Epoch 27/100\n",
      " - 0s - loss: 0.5219 - acc: 0.8276\n",
      "Epoch 28/100\n",
      " - 0s - loss: 0.5157 - acc: 0.8343\n",
      "Epoch 29/100\n",
      " - 0s - loss: 0.5097 - acc: 0.8401\n",
      "Epoch 30/100\n",
      " - 0s - loss: 0.5038 - acc: 0.8468\n",
      "Epoch 31/100\n",
      " - 0s - loss: 0.4978 - acc: 0.8543\n",
      "Epoch 32/100\n",
      " - 0s - loss: 0.4921 - acc: 0.8576\n",
      "Epoch 33/100\n",
      " - 0s - loss: 0.4858 - acc: 0.8651\n",
      "Epoch 34/100\n",
      " - 0s - loss: 0.4798 - acc: 0.8643\n",
      "Epoch 35/100\n",
      " - 0s - loss: 0.4738 - acc: 0.8709\n",
      "Epoch 36/100\n",
      " - 0s - loss: 0.4676 - acc: 0.8734\n",
      "Epoch 37/100\n",
      " - 0s - loss: 0.4616 - acc: 0.8751\n",
      "Epoch 38/100\n",
      " - 0s - loss: 0.4556 - acc: 0.8784\n",
      "Epoch 39/100\n",
      " - 0s - loss: 0.4498 - acc: 0.8818\n",
      "Epoch 40/100\n",
      " - 0s - loss: 0.4438 - acc: 0.8859\n",
      "Epoch 41/100\n",
      " - 0s - loss: 0.4380 - acc: 0.8918\n",
      "Epoch 42/100\n",
      " - 0s - loss: 0.4321 - acc: 0.8943\n",
      "Epoch 43/100\n",
      " - 0s - loss: 0.4262 - acc: 0.9009\n",
      "Epoch 44/100\n",
      " - 0s - loss: 0.4202 - acc: 0.9026\n",
      "Epoch 45/100\n",
      " - 0s - loss: 0.4145 - acc: 0.9067\n",
      "Epoch 46/100\n",
      " - 0s - loss: 0.4085 - acc: 0.9067\n",
      "Epoch 47/100\n",
      " - 0s - loss: 0.4027 - acc: 0.9126\n",
      "Epoch 48/100\n",
      " - 0s - loss: 0.3968 - acc: 0.9117\n",
      "Epoch 49/100\n",
      " - 0s - loss: 0.3910 - acc: 0.9142\n",
      "Epoch 50/100\n",
      " - 0s - loss: 0.3853 - acc: 0.9134\n",
      "Epoch 51/100\n",
      " - 0s - loss: 0.3797 - acc: 0.9167\n",
      "Epoch 52/100\n",
      " - 0s - loss: 0.3742 - acc: 0.9142\n",
      "Epoch 53/100\n",
      " - 0s - loss: 0.3686 - acc: 0.9192\n",
      "Epoch 54/100\n",
      " - 0s - loss: 0.3630 - acc: 0.9201\n",
      "Epoch 55/100\n",
      " - 0s - loss: 0.3573 - acc: 0.9234\n",
      "Epoch 56/100\n",
      " - 0s - loss: 0.3518 - acc: 0.9234\n",
      "Epoch 57/100\n",
      " - 0s - loss: 0.3462 - acc: 0.9259\n",
      "Epoch 58/100\n",
      " - 0s - loss: 0.3405 - acc: 0.9259\n",
      "Epoch 59/100\n",
      " - 0s - loss: 0.3347 - acc: 0.9292\n",
      "Epoch 60/100\n",
      " - 0s - loss: 0.3292 - acc: 0.9301\n",
      "Epoch 61/100\n",
      " - 0s - loss: 0.3238 - acc: 0.9326\n",
      "Epoch 62/100\n",
      " - 0s - loss: 0.3184 - acc: 0.9326\n",
      "Epoch 63/100\n",
      " - 0s - loss: 0.3128 - acc: 0.9359\n",
      "Epoch 64/100\n",
      " - 0s - loss: 0.3071 - acc: 0.9359\n",
      "Epoch 65/100\n",
      " - 0s - loss: 0.3018 - acc: 0.9384\n",
      "Epoch 66/100\n",
      " - 0s - loss: 0.2965 - acc: 0.9409\n",
      "Epoch 67/100\n",
      " - 0s - loss: 0.2913 - acc: 0.9417\n",
      "Epoch 68/100\n",
      " - 0s - loss: 0.2860 - acc: 0.9442\n",
      "Epoch 69/100\n",
      " - 0s - loss: 0.2810 - acc: 0.9459\n",
      "Epoch 70/100\n",
      " - 0s - loss: 0.2759 - acc: 0.9475\n",
      "Epoch 71/100\n",
      " - 0s - loss: 0.2711 - acc: 0.9475\n",
      "Epoch 72/100\n",
      " - 0s - loss: 0.2661 - acc: 0.9500\n",
      "Epoch 73/100\n",
      " - 0s - loss: 0.2611 - acc: 0.9509\n",
      "Epoch 74/100\n",
      " - 0s - loss: 0.2561 - acc: 0.9517\n",
      "Epoch 75/100\n",
      " - 0s - loss: 0.2513 - acc: 0.9542\n",
      "Epoch 76/100\n",
      " - 0s - loss: 0.2466 - acc: 0.9542\n",
      "Epoch 77/100\n",
      " - 0s - loss: 0.2419 - acc: 0.9575\n",
      "Epoch 78/100\n",
      " - 0s - loss: 0.2372 - acc: 0.9567\n",
      "Epoch 79/100\n",
      " - 0s - loss: 0.2327 - acc: 0.9575\n",
      "Epoch 80/100\n",
      " - 0s - loss: 0.2284 - acc: 0.9592\n",
      "Epoch 81/100\n",
      " - 0s - loss: 0.2239 - acc: 0.9609\n",
      "Epoch 82/100\n",
      " - 0s - loss: 0.2194 - acc: 0.9600\n",
      "Epoch 83/100\n",
      " - 0s - loss: 0.2150 - acc: 0.9609\n",
      "Epoch 84/100\n",
      " - 0s - loss: 0.2105 - acc: 0.9609\n",
      "Epoch 85/100\n",
      " - 0s - loss: 0.2063 - acc: 0.9625\n",
      "Epoch 86/100\n",
      " - 0s - loss: 0.2021 - acc: 0.9617\n",
      "Epoch 87/100\n",
      " - 0s - loss: 0.1981 - acc: 0.9634\n",
      "Epoch 88/100\n",
      " - 0s - loss: 0.1940 - acc: 0.9642\n",
      "Epoch 89/100\n",
      " - 0s - loss: 0.1899 - acc: 0.9642\n",
      "Epoch 90/100\n",
      " - 0s - loss: 0.1860 - acc: 0.9650\n",
      "Epoch 91/100\n",
      " - 0s - loss: 0.1821 - acc: 0.9659\n",
      "Epoch 92/100\n",
      " - 0s - loss: 0.1785 - acc: 0.9659\n",
      "Epoch 93/100\n",
      " - 0s - loss: 0.1747 - acc: 0.9667\n",
      "Epoch 94/100\n",
      " - 0s - loss: 0.1711 - acc: 0.9692\n",
      "Epoch 95/100\n",
      " - 0s - loss: 0.1676 - acc: 0.9692\n",
      "Epoch 96/100\n",
      " - 0s - loss: 0.1641 - acc: 0.9709\n",
      "Epoch 97/100\n",
      " - 0s - loss: 0.1605 - acc: 0.9717\n",
      "Epoch 98/100\n",
      " - 0s - loss: 0.1570 - acc: 0.9717\n",
      "Epoch 99/100\n",
      " - 0s - loss: 0.1537 - acc: 0.9717\n",
      "Epoch 100/100\n",
      " - 0s - loss: 0.1503 - acc: 0.9725\n"
     ]
    },
    {
     "data": {
      "text/plain": [
       "<keras.callbacks.History at 0x7f6dc577c278>"
      ]
     },
     "execution_count": 314,
     "metadata": {
      "tags": []
     },
     "output_type": "execute_result"
    }
   ],
   "source": [
    "model = Sequential()\n",
    "model.add(Dense(32, activation='relu', input_dim=200))\n",
    "model.add(Dense(16, activation='relu'))\n",
    "model.add(Dense(8, activation='relu'))\n",
    "model.add(Dense(1, activation='sigmoid'))\n",
    "model.compile(optimizer='rmsprop',\n",
    "              loss='binary_crossentropy',\n",
    "              metrics=['accuracy'])\n",
    "\n",
    "model.fit(train_vecs_w2v, y_train, epochs=100, batch_size=10000, verbose=2)"
   ]
  },
  {
   "cell_type": "code",
   "execution_count": 0,
   "metadata": {
    "colab": {
     "base_uri": "https://localhost:8080/",
     "height": 52
    },
    "colab_type": "code",
    "id": "pn-aUKNWKIeJ",
    "outputId": "abe4f70f-deff-4101-96de-dffd064aca30",
    "scrolled": true
   },
   "outputs": [
    {
     "name": "stdout",
     "output_type": "stream",
     "text": [
      "loss :  0.8369897011902642 \n",
      " acc :  0.5714285742008804\n"
     ]
    }
   ],
   "source": [
    "# Evaluating accuracy score\n",
    "\n",
    "score = model.evaluate(test_vecs_w2v, y_test, batch_size=128, verbose=2)\n",
    "print(model.metrics_names[0],\": \",score[0],\"\\n\",model.metrics_names[1],\": \",score[1])"
   ]
  },
  {
   "cell_type": "markdown",
   "metadata": {
    "colab_type": "text",
    "id": "G0AAZgVrKIeL"
   },
   "source": [
    "# Saving model"
   ]
  },
  {
   "cell_type": "code",
   "execution_count": 0,
   "metadata": {
    "colab": {
     "base_uri": "https://localhost:8080/",
     "height": 34
    },
    "colab_type": "code",
    "id": "XnkG3aEfKIeM",
    "outputId": "8ea984e0-6288-46bf-c360-89726e24a661",
    "scrolled": false
   },
   "outputs": [
    {
     "name": "stdout",
     "output_type": "stream",
     "text": [
      "Saved model to disk\n"
     ]
    }
   ],
   "source": [
    "#Saving the model\n",
    "model_json = model.to_json() # serialize model to JSON\n",
    "with open(\"model_my_new.json\", \"w\") as json_file:\n",
    "    json_file.write(model_json)\n",
    "\n",
    "model.save_weights(\"smodel_my_new.h5\") # serialize weights to HDF5\n",
    "print(\"Saved model to disk\")\n",
    "\n",
    "#Loading the model\n",
    "# newmodel = model_from_json(open('model.json').read())\n",
    "# newmodel.load_weights('smodel.h5')"
   ]
  },
  {
   "cell_type": "markdown",
   "metadata": {
    "colab_type": "text",
    "id": "2OdhKh5pKIeN"
   },
   "source": [
    "# Predicting for test file (Validation)"
   ]
  },
  {
   "cell_type": "code",
   "execution_count": 0,
   "metadata": {
    "colab": {
     "base_uri": "https://localhost:8080/",
     "height": 34
    },
    "colab_type": "code",
    "id": "AVwj_nZXKIeO",
    "outputId": "9939b94d-f995-45b8-d0ae-d58307831f71"
   },
   "outputs": [
    {
     "name": "stdout",
     "output_type": "stream",
     "text": [
      "dataset loaded with shape (497, 4)\n"
     ]
    }
   ],
   "source": [
    "def ingesttest():\n",
    "    testdata = pd.read_csv('/content/data/trainingandtestdata/tweetstest.csv', encoding='latin-1')\n",
    "    testdata.columns=[\"Sentiment\",\"ItemID\",\"Date\",\"Blank\",\"SentimentSource\",\"SentimentText\"]\n",
    "    testdata.drop(['ItemID', 'SentimentSource'], axis=1, inplace=True)\n",
    "    testdata = testdata[testdata.Sentiment.isnull() == False]\n",
    "    testdata['Sentiment'] = testdata['Sentiment'].map( {4:1, 0:0, 2:1})\n",
    "    testdata = testdata[testdata['SentimentText'].isnull() == False]\n",
    "    testdata.reset_index(inplace=True)\n",
    "    testdata.drop('index', axis=1, inplace=True)\n",
    "    print ('dataset loaded with shape', testdata.shape  )  \n",
    "    return testdata\n",
    "\n",
    "testdata = ingesttest()"
   ]
  },
  {
   "cell_type": "code",
   "execution_count": 0,
   "metadata": {
    "colab": {},
    "colab_type": "code",
    "id": "HWO6L-5nKIeT"
   },
   "outputs": [],
   "source": [
    "test_X=np.array(testdata.tokens)\n",
    "test_y=np.array(testdata.Sentiment)"
   ]
  },
  {
   "cell_type": "code",
   "execution_count": 0,
   "metadata": {
    "colab": {
     "base_uri": "https://localhost:8080/",
     "height": 410
    },
    "colab_type": "code",
    "id": "xugkg-pfKIeV",
    "outputId": "87835a34-1acc-4567-d0a1-0a728a88bab0",
    "scrolled": true
   },
   "outputs": [
    {
     "name": "stderr",
     "output_type": "stream",
     "text": [
      "\n",
      "\n",
      "\n",
      "\n",
      "\n",
      "\n",
      "\n",
      "\n",
      "\n",
      "0it [00:00, ?it/s]\u001b[A\u001b[A\u001b[A\u001b[A\u001b[A\u001b[A\u001b[A\u001b[A\u001b[A/usr/local/lib/python3.6/dist-packages/ipykernel_launcher.py:6: DeprecationWarning: Call to deprecated `__getitem__` (Method will be removed in 4.0.0, use self.wv.__getitem__() instead).\n",
      "  \n",
      "\n",
      "\n",
      "\n",
      "\n",
      "\n",
      "\n",
      "\n",
      "\n",
      "\n",
      "497it [00:00, 6312.15it/s]\u001b[A\u001b[A\u001b[A\u001b[A\u001b[A\u001b[A\u001b[A\u001b[A\u001b[A"
     ]
    }
   ],
   "source": [
    "test_w2v_vecs = np.concatenate([buildWordVector(z, n_dim) for z in tqdm(map(lambda x:x, test_X))])"
   ]
  },
  {
   "cell_type": "code",
   "execution_count": 0,
   "metadata": {
    "colab": {
     "base_uri": "https://localhost:8080/",
     "height": 52
    },
    "colab_type": "code",
    "id": "P9Q964HwKIea",
    "outputId": "2fe5d610-e48d-4860-db97-82e330018aa7",
    "scrolled": true
   },
   "outputs": [
    {
     "name": "stdout",
     "output_type": "stream",
     "text": [
      "loss :  0.6691735330481884 \n",
      " acc :  0.6438631725982881\n"
     ]
    }
   ],
   "source": [
    "# model.predict_classes(test_w2v_vecs)\n",
    "score = model.evaluate(test_w2v_vecs,test_y, batch_size=128, verbose=2)\n",
    "print(model.metrics_names[0],\": \",score[0],\"\\n\",model.metrics_names[1],\": \",score[1])"
   ]
  },
  {
   "cell_type": "markdown",
   "metadata": {
    "colab_type": "text",
    "id": "EpzP9DZ7KIed"
   },
   "source": [
    "# Testing the model test dataset"
   ]
  }
 ],
 "metadata": {
  "colab": {
   "collapsed_sections": [],
   "name": "ex_1_Sentiment Analysis.ipynb",
   "provenance": [],
   "toc_visible": true
  },
  "kernelspec": {
   "display_name": "Python 3",
   "language": "python",
   "name": "python3"
  },
  "language_info": {
   "codemirror_mode": {
    "name": "ipython",
    "version": 3
   },
   "file_extension": ".py",
   "mimetype": "text/x-python",
   "name": "python",
   "nbconvert_exporter": "python",
   "pygments_lexer": "ipython3",
   "version": "3.7.1"
  }
 },
 "nbformat": 4,
 "nbformat_minor": 1
}
